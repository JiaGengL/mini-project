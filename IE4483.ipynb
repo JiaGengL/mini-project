{
 "cells": [
  {
   "cell_type": "code",
   "execution_count": null,
   "id": "6370b5fe-26e2-4e56-95b9-b3e136fc0964",
   "metadata": {},
   "outputs": [],
   "source": [
    "import pandas as pd\n",
    "\n",
    "# Load training and testing data\n",
    "train_data = pd.read_json('train.json')\n",
    "test_data = pd.read_json('test.json')\n"
   ]
  },
  {
   "cell_type": "code",
   "execution_count": 2,
   "id": "73226799-bc1d-4369-a8eb-f49a957649a7",
   "metadata": {},
   "outputs": [
    {
     "name": "stderr",
     "output_type": "stream",
     "text": [
      "[nltk_data] Downloading package stopwords to\n",
      "[nltk_data]     C:\\Users\\LiJiaGeng\\AppData\\Roaming\\nltk_data...\n",
      "[nltk_data]   Package stopwords is already up-to-date!\n"
     ]
    },
    {
     "ename": "NameError",
     "evalue": "name 'train_data' is not defined",
     "output_type": "error",
     "traceback": [
      "\u001b[1;31m---------------------------------------------------------------------------\u001b[0m",
      "\u001b[1;31mNameError\u001b[0m                                 Traceback (most recent call last)",
      "Cell \u001b[1;32mIn[2], line 22\u001b[0m\n\u001b[0;32m     19\u001b[0m     \u001b[38;5;28;01mreturn\u001b[39;00m \u001b[38;5;124m'\u001b[39m\u001b[38;5;124m \u001b[39m\u001b[38;5;124m'\u001b[39m\u001b[38;5;241m.\u001b[39mjoin(words)\n\u001b[0;32m     21\u001b[0m \u001b[38;5;66;03m# Apply preprocessing\u001b[39;00m\n\u001b[1;32m---> 22\u001b[0m train_data[\u001b[38;5;124m'\u001b[39m\u001b[38;5;124mcleaned_text\u001b[39m\u001b[38;5;124m'\u001b[39m] \u001b[38;5;241m=\u001b[39m train_data[\u001b[38;5;124m'\u001b[39m\u001b[38;5;124mreview\u001b[39m\u001b[38;5;124m'\u001b[39m]\u001b[38;5;241m.\u001b[39mapply(preprocess_text)\n\u001b[0;32m     23\u001b[0m test_data[\u001b[38;5;124m'\u001b[39m\u001b[38;5;124mcleaned_text\u001b[39m\u001b[38;5;124m'\u001b[39m] \u001b[38;5;241m=\u001b[39m test_data[\u001b[38;5;124m'\u001b[39m\u001b[38;5;124mreview\u001b[39m\u001b[38;5;124m'\u001b[39m]\u001b[38;5;241m.\u001b[39mapply(preprocess_text)\n",
      "\u001b[1;31mNameError\u001b[0m: name 'train_data' is not defined"
     ]
    }
   ],
   "source": [
    "#1.2 Preprocess \n",
    "# For TF-IDF Features\n",
    "# clean the text by lowercasing, removing punctuation, and removing stopwords to prepare it for TF-IDF vectorization.\n",
    "import nltk\n",
    "from nltk.corpus import stopwords\n",
    "import string\n",
    "\n",
    "# Download stopwords\n",
    "nltk.download('stopwords')\n",
    "stop_words = set(stopwords.words('english'))\n",
    "punctuation = string.punctuation\n",
    "\n",
    "def preprocess_text(text):\n",
    "    # Lowercase the text\n",
    "    text = text.lower()\n",
    "    # Remove punctuation\n",
    "    text = text.translate(str.maketrans('', '', punctuation))\n",
    "    # Remove stopwords\n",
    "    words = text.split()\n",
    "    words = [word for word in words if word not in stop_words]\n",
    "    return ' '.join(words)\n",
    "\n",
    "# Apply preprocessing\n",
    "train_data['cleaned_text'] = train_data['review'].apply(preprocess_text)\n",
    "test_data['cleaned_text'] = test_data['review'].apply(preprocess_text)\n"
   ]
  },
  {
   "cell_type": "code",
   "execution_count": null,
   "id": "1f24f3cf-4830-418c-b2ea-22f1472b5c12",
   "metadata": {},
   "outputs": [],
   "source": [
    "# For BERT Embeddings\n",
    "# tokenize the text using BERT's tokenizer, ensuring all reviews have the same length for model input.\n",
    "from transformers import BertTokenizer\n",
    "\n",
    "# Initialize tokenizer\n",
    "tokenizer = BertTokenizer.from_pretrained('bert-base-uncased')\n",
    "\n",
    "# Tokenization function\n",
    "def tokenize_function(examples):\n",
    "    return tokenizer(\n",
    "        examples['review'],\n",
    "        padding='max_length',\n",
    "        truncation=True,\n",
    "        max_length=128\n",
    "    )\n",
    "\n",
    "# Apply tokenization\n",
    "train_data_tokens = train_data['review'].apply(lambda x: tokenizer.encode_plus(\n",
    "    x,\n",
    "    add_special_tokens=True,\n",
    "    max_length=128,\n",
    "    truncation=True,\n",
    "    padding='max_length',\n",
    "    return_attention_mask=True,\n",
    "    return_tensors='pt'\n",
    "))\n",
    "\n",
    "test_data_tokens = test_data['review'].apply(lambda x: tokenizer.encode_plus(\n",
    "    x,\n",
    "    add_special_tokens=True,\n",
    "    max_length=128,\n",
    "    truncation=True,\n",
    "    padding='max_length',\n",
    "    return_attention_mask=True,\n",
    "    return_tensors='pt'\n",
    "))\n"
   ]
  },
  {
   "cell_type": "code",
   "execution_count": 5,
   "id": "957e8c43-798f-4882-b648-0088c9a212dd",
   "metadata": {},
   "outputs": [],
   "source": [
    "# Step 2: Model Selection\n",
    "# 2.1 Baseline Model\n",
    "# Logistic Regression with TF-IDF\n",
    "# convert the cleaned text into TF-IDF vectors and train a Logistic Regression model on these features.\n",
    "from sklearn.feature_extraction.text import TfidfVectorizer\n",
    "from sklearn.linear_model import LogisticRegression\n",
    "\n",
    "# Vectorize the text\n",
    "vectorizer = TfidfVectorizer()\n",
    "X_train = vectorizer.fit_transform(train_data['cleaned_text'])\n",
    "X_test = vectorizer.transform(test_data['cleaned_text'])\n",
    "y_train = train_data['sentiment']\n",
    "\n",
    "# Initialize and train Logistic Regression model\n",
    "lr_model = LogisticRegression(max_iter=1000, random_state=42)\n",
    "lr_model.fit(X_train, y_train)\n"
   ]
  },
  {
   "cell_type": "code",
   "execution_count": null,
   "id": "44859448-8636-470c-b50a-85d50c71b0cb",
   "metadata": {},
   "outputs": [],
   "source": [
    "# 2.2 Enhanced Model: Fine-tune BERT\n",
    "# fine-tune BERT by adding a classification layer on top. The Trainer class handles the training loop, optimization, and evaluation.\n",
    "\n",
    "from transformers import BertForSequenceClassification, Trainer, TrainingArguments\n",
    "import torch\n",
    "from datasets import Dataset\n",
    "\n",
    "# Prepare dataset for Hugging Face's Trainer\n",
    "train_dataset = Dataset.from_pandas(train_data)\n",
    "test_dataset = Dataset.from_pandas(test_data)\n",
    "\n",
    "# Tokenize datasets\n",
    "def preprocess_function(examples):\n",
    "    return tokenizer(\n",
    "        examples['review'],\n",
    "        padding='max_length',\n",
    "        truncation=True,\n",
    "        max_length=128\n",
    "    )\n",
    "\n",
    "train_dataset = train_dataset.map(preprocess_function, batched=True)\n",
    "test_dataset = test_dataset.map(preprocess_function, batched=True)\n",
    "\n",
    "# Set format for PyTorch\n",
    "train_dataset.set_format(type='torch', columns=['input_ids', 'attention_mask', 'sentiment'])\n",
    "test_dataset.set_format(type='torch', columns=['input_ids', 'attention_mask'])\n",
    "\n",
    "# Initialize model\n",
    "model = BertForSequenceClassification.from_pretrained('bert-base-uncased')\n",
    "\n",
    "# Define training arguments\n",
    "training_args = TrainingArguments(\n",
    "    output_dir='./results',\n",
    "    evaluation_strategy='epoch',\n",
    "    save_strategy='epoch',\n",
    "    learning_rate=2e-5,\n",
    "    per_device_train_batch_size=16,\n",
    "    per_device_eval_batch_size=16,\n",
    "    num_train_epochs=3,\n",
    "    weight_decay=0.01,\n",
    "    logging_dir='./logs',\n",
    "    logging_steps=10,\n",
    "    load_best_model_at_end=True,\n",
    "    metric_for_best_model='f1',\n",
    "    seed=42\n",
    ")\n",
    "\n",
    "# Define compute_metrics function\n",
    "from sklearn.metrics import accuracy_score, f1_score\n",
    "import numpy as np\n",
    "\n",
    "def compute_metrics(p):\n",
    "    preds = np.argmax(p.predictions, axis=1)\n",
    "    labels = p.label_ids\n",
    "    acc = accuracy_score(labels, preds)\n",
    "    f1 = f1_score(labels, preds)\n",
    "    return {'accuracy': acc, 'f1': f1}\n",
    "\n",
    "# Initialize Trainer\n",
    "trainer = Trainer(\n",
    "    model=model,\n",
    "    args=training_args,\n",
    "    train_dataset=train_dataset,\n",
    "    eval_dataset=train_dataset,  # Ideally, you should have a separate validation set\n",
    "    compute_metrics=compute_metrics\n",
    ")\n",
    "\n",
    "# Train the model\n",
    "trainer.train()\n"
   ]
  },
  {
   "cell_type": "code",
   "execution_count": null,
   "id": "b48b967e-62a5-4f7a-b363-f081d2b655d7",
   "metadata": {},
   "outputs": [],
   "source": [
    "# Step 3: Testing and Prediction\n",
    "# Logistic Regression\n",
    "# Predict sentiments\n",
    "predictions = lr_model.predict(X_test)\n",
    "test_data['predicted_sentiment'] = predictions\n",
    "# Fine-tuned BERT\n",
    "# Predict sentiments\n",
    "predictions = trainer.predict(test_dataset)\n",
    "predicted_labels = np.argmax(predictions.predictions, axis=1)\n",
    "test_data['predicted_sentiment'] = predicted_labels\n"
   ]
  },
  {
   "cell_type": "code",
   "execution_count": null,
   "id": "2d4d7ab8-f268-4ff5-b890-427aa5b6210f",
   "metadata": {},
   "outputs": [],
   "source": [
    "#3.2 Save Results\n",
    "# Prepare submission\n",
    "submission = test_data[['id', 'predicted_sentiment']]\n",
    "submission.to_csv('submission.csv', index=False)\n"
   ]
  },
  {
   "cell_type": "code",
   "execution_count": null,
   "id": "439e9b05-ab65-4567-84c2-521d4e60b6ec",
   "metadata": {},
   "outputs": [],
   "source": [
    "# Step 4: Result Analysis\n",
    "# 4.1 Evaluate Model Performance\n",
    "# For Logistic Regression\n",
    "from sklearn.metrics import classification_report\n",
    "\n",
    "# Evaluate on training data\n",
    "train_predictions = lr_model.predict(X_train)\n",
    "print(classification_report(y_train, train_predictions))\n",
    "# For Fine-tuned BERT\n",
    "# Evaluate using Trainer's built-in method\n",
    "eval_results = trainer.evaluate()\n",
    "print(eval_results)\n"
   ]
  },
  {
   "cell_type": "code",
   "execution_count": null,
   "id": "43e9ab8e-bcb7-441d-9cb3-51a4e7fb741e",
   "metadata": {},
   "outputs": [],
   "source": [
    "# 4.2 Sample Analysis\n",
    "# By analyzing specific cases, we can gain insights into the model's strengths and weaknesses, such as handling of sarcasm or nuanced language.\n",
    "# Correct predictions\n",
    "correct_preds = test_data[test_data['predicted_sentiment'] == test_data['sentiment']].sample(2)\n",
    "print(\"Correct Predictions:\")\n",
    "print(correct_preds[['review', 'predicted_sentiment']])\n",
    "\n",
    "# Incorrect predictions\n",
    "incorrect_preds = test_data[test_data['predicted_sentiment'] != test_data['sentiment']].sample(2)\n",
    "print(\"\\nIncorrect Predictions:\")\n",
    "print(incorrect_preds[['review', 'predicted_sentiment']])\n"
   ]
  },
  {
   "cell_type": "markdown",
   "id": "96c123e8-86ca-410a-90e1-aede2de93e11",
   "metadata": {},
   "source": [
    "Step 5: Feature Format Impact Discussion\n",
    "TF-IDF Advantages:\n",
    "Efficiency: Faster computation and lower resource consumption.\n",
    "Simplicity: Easy to implement and interpret.\n",
    "BERT Embeddings Advantages:\n",
    "Contextual Understanding: Captures context and nuances in language.\n",
    "Accuracy: Generally provides higher classification accuracy.\n",
    "Trade-offs:\n",
    "Resource Consumption: BERT requires more computational power and memory.\n",
    "Processing Time: Longer training and inference times compared to TF-IDF.\n",
    "Discussion: The choice between TF-IDF and BERT embeddings depends on the specific requirements and resource constraints of your project. While BERT offers superior performance, TF-IDF is a practical choice for scenarios with limited resources."
   ]
  },
  {
   "cell_type": "code",
   "execution_count": null,
   "id": "8f000cd5-c18f-46dd-a628-c20eccddceff",
   "metadata": {},
   "outputs": [],
   "source": [
    "# Extension for Extra Credit: Emotion and Tone Classification\n",
    "# Data Expansion and Re-labeling\n",
    "# Load emotion dataset\n",
    "emotion_data = pd.read_csv('kaggle_emotion_dataset.csv')  # Ensure this file is available\n"
   ]
  },
  {
   "cell_type": "code",
   "execution_count": null,
   "id": "02182ada-11d8-4fe8-a1d1-41b1c8d9fb62",
   "metadata": {},
   "outputs": [],
   "source": [
    "# Map emotions to our data (this requires careful matching)\n",
    "# For demonstration, let's assume we can map sentiments to emotions\n",
    "emotion_mapping = {'positive': 'joy', 'negative': 'anger'}\n",
    "train_data['emotion'] = train_data['sentiment'].map(emotion_mapping)\n"
   ]
  },
  {
   "cell_type": "code",
   "execution_count": null,
   "id": "d33622b6-64ab-45a3-b0a5-dddabc726a92",
   "metadata": {},
   "outputs": [],
   "source": [
    "# Update tokenizer and model for emotion classification\n",
    "from transformers import BertTokenizer, BertForSequenceClassification\n",
    "\n",
    "# Assume num_labels equals the number of emotions in your dataset\n",
    "num_labels = emotion_data['emotion'].nunique()\n",
    "\n",
    "tokenizer = BertTokenizer.from_pretrained('bert-base-uncased')\n",
    "model = BertForSequenceClassification.from_pretrained('bert-base-uncased', num_labels=num_labels)\n",
    "\n",
    "# Update training arguments if necessary\n",
    "training_args.num_train_epochs = 4\n"
   ]
  },
  {
   "cell_type": "code",
   "execution_count": null,
   "id": "b675458e-27f4-4a87-ba37-62b0b91c3ac8",
   "metadata": {},
   "outputs": [],
   "source": [
    "# Encode labels\n",
    "from sklearn.preprocessing import LabelEncoder\n",
    "\n",
    "le = LabelEncoder()\n",
    "train_data['emotion_label'] = le.fit_transform(train_data['emotion'])\n",
    "\n",
    "# Prepare datasets\n",
    "train_dataset = Dataset.from_pandas(train_data)\n",
    "train_dataset = train_dataset.map(preprocess_function, batched=True)\n",
    "train_dataset.set_format(type='torch', columns=['input_ids', 'attention_mask', 'emotion_label'])\n"
   ]
  },
  {
   "cell_type": "code",
   "execution_count": null,
   "id": "e26e0ddd-a080-48fd-bcb1-23416bd0dcc6",
   "metadata": {},
   "outputs": [],
   "source": [
    "# Update compute_metrics for multi-class\n",
    "def compute_metrics(p):\n",
    "    preds = np.argmax(p.predictions, axis=1)\n",
    "    labels = p.label_ids\n",
    "    acc = accuracy_score(labels, preds)\n",
    "    f1 = f1_score(labels, preds, average='weighted')\n",
    "    return {'accuracy': acc, 'f1': f1}\n",
    "\n",
    "# Initialize Trainer\n",
    "trainer = Trainer(\n",
    "    model=model,\n",
    "    args=training_args,\n",
    "    train_dataset=train_dataset,\n",
    "    compute_metrics=compute_metrics\n",
    ")\n",
    "\n",
    "# Train the model\n",
    "trainer.train()\n"
   ]
  },
  {
   "cell_type": "code",
   "execution_count": null,
   "id": "8d6510ba-c860-483e-97bd-2d5e96c3bc44",
   "metadata": {},
   "outputs": [],
   "source": [
    "# Prepare test dataset\n",
    "test_data['emotion_label'] = le.transform(test_data['emotion'])  # Ensure test data has emotion labels\n",
    "test_dataset = Dataset.from_pandas(test_data)\n",
    "test_dataset = test_dataset.map(preprocess_function, batched=True)\n",
    "test_dataset.set_format(type='torch', columns=['input_ids', 'attention_mask', 'emotion_label'])\n",
    "\n",
    "# Predict emotions\n",
    "predictions = trainer.predict(test_dataset)\n",
    "predicted_emotions = np.argmax(predictions.predictions, axis=1)\n",
    "test_data['predicted_emotion'] = le.inverse_transform(predicted_emotions)\n"
   ]
  },
  {
   "cell_type": "code",
   "execution_count": null,
   "id": "b070e09e-c403-49e4-979f-badbb164a29b",
   "metadata": {},
   "outputs": [],
   "source": [
    "# Save emotion predictions\n",
    "submission_emotion = test_data[['id', 'predicted_emotion']]\n",
    "submission_emotion.to_csv('submission_emotion.csv', index=False)\n"
   ]
  },
  {
   "cell_type": "code",
   "execution_count": null,
   "id": "a91f05c2-778f-4684-8438-16ab2219f6d4",
   "metadata": {},
   "outputs": [],
   "source": [
    "from sklearn.metrics import classification_report\n",
    "\n",
    "print(classification_report(test_data['emotion_label'], predicted_emotions, target_names=le.classes_))\n"
   ]
  },
  {
   "cell_type": "markdown",
   "id": "c876181a-4e32-4af6-9eeb-c90d9f39d254",
   "metadata": {},
   "source": [
    "Extended Report Section\n",
    "Model Performance: Discuss metrics such as multi-class accuracy and weighted F1-score to evaluate the emotion classification model.\n",
    "\n",
    "Enrichment of Analysis: Explain how emotion classification provides deeper insights into customer feedback, enabling more targeted strategies.\n",
    "\n",
    "Resource Demands: Acknowledge that fine-tuning BERT for multiple classes increases computational requirements, but highlight the added value it brings to understanding complex emotional nuances."
   ]
  }
 ],
 "metadata": {
  "kernelspec": {
   "display_name": "Python 3 (ipykernel)",
   "language": "python",
   "name": "python3"
  },
  "language_info": {
   "codemirror_mode": {
    "name": "ipython",
    "version": 3
   },
   "file_extension": ".py",
   "mimetype": "text/x-python",
   "name": "python",
   "nbconvert_exporter": "python",
   "pygments_lexer": "ipython3",
   "version": "3.11.7"
  }
 },
 "nbformat": 4,
 "nbformat_minor": 5
}
